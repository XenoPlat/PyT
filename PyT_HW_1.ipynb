{
 "cells": [
  {
   "cell_type": "markdown",
   "metadata": {},
   "source": [
    "### Урок 1. Введение в PyTorch"
   ]
  },
  {
   "cell_type": "code",
   "execution_count": 3,
   "metadata": {
    "id": "v5KvWgLQUz6a"
   },
   "outputs": [],
   "source": [
    "import numpy as np\n",
    "import matplotlib.pyplot as plt\n",
    "\n",
    "import torch\n",
    "import torch.nn.functional as F\n",
    "import torchvision\n",
    "import torchvision.transforms as transforms\n",
    "from torch import nn \n",
    "from torch import optim\n",
    "from torch.autograd import Variable\n",
    "\n",
    "from sklearn.metrics import accuracy_score\n",
    "\n",
    "%matplotlib inline"
   ]
  },
  {
   "cell_type": "markdown",
   "metadata": {
    "id": "Jtx6TjaHa3ff"
   },
   "source": [
    "1). Добиться вразумительного результата от модели, собранной на занятии (3 угаданные картинки из 4 предложенных на семинаре). Варианты изменений:\n",
    " - изменение слоёв и их количества;\n",
    " - изменение метода оптимизации; \n",
    " - изменение процесса обучения; \n",
    " - для продвинутых: преобразование данных.\n"
   ]
  },
  {
   "cell_type": "code",
   "execution_count": 4,
   "metadata": {
    "colab": {
     "base_uri": "https://localhost:8080/",
     "height": 83,
     "referenced_widgets": [
      "8eb87af3cf7f499e9e8f20d7c8d04177",
      "9408ac081dc74369b4287e95ee90715c",
      "5602243caa0a4be0bced93ad98acffc9",
      "1866ae3676dd43e0b8b0f4afc1bd506c",
      "53d16f2bbd33432a9c9d4ec6a85dbb2b",
      "fd8c5a4a09494956aeef8a93b40a18fb",
      "90d1c217dfdb4b03875f28ec75d2052a",
      "5c93bd3809c7434ab6f309da20a0c9e0"
     ]
    },
    "id": "H99-2ie8VBiY",
    "outputId": "074c412a-86d1-44e8-b2c6-a6e2f3a7979d"
   },
   "outputs": [
    {
     "name": "stdout",
     "output_type": "stream",
     "text": [
      "Downloading https://www.cs.toronto.edu/~kriz/cifar-10-python.tar.gz to E:/GB/PyTorch\\cifar-10-python.tar.gz\n"
     ]
    },
    {
     "data": {
      "application/vnd.jupyter.widget-view+json": {
       "model_id": "25b852614b1e4883a2339e8d16f2c1ab",
       "version_major": 2,
       "version_minor": 0
      },
      "text/plain": [
       "HBox(children=(HTML(value=''), FloatProgress(value=1.0, bar_style='info', layout=Layout(width='20px'), max=1.0…"
      ]
     },
     "metadata": {},
     "output_type": "display_data"
    },
    {
     "name": "stdout",
     "output_type": "stream",
     "text": [
      "Extracting E:/GB/PyTorch\\cifar-10-python.tar.gz to E:/GB/PyTorch\n"
     ]
    }
   ],
   "source": [
    "train_dataset = torchvision.datasets.CIFAR10(\n",
    "    root='E:/GB/PyTorch',\n",
    "    train=True,\n",
    "    transform=transforms.ToTensor(),\n",
    "    download=True\n",
    ")\n",
    "\n",
    "train_loader = torch.utils.data.DataLoader(\n",
    "    dataset=train_dataset,\n",
    "    batch_size=40, \n",
    "    shuffle=True\n",
    ")"
   ]
  },
  {
   "cell_type": "code",
   "execution_count": 5,
   "metadata": {
    "colab": {
     "base_uri": "https://localhost:8080/",
     "height": 34
    },
    "id": "dFjNKp-5je9C",
    "outputId": "09464277-fccb-4df0-df8f-7a94b150fa6a"
   },
   "outputs": [
    {
     "name": "stdout",
     "output_type": "stream",
     "text": [
      "Files already downloaded and verified\n"
     ]
    }
   ],
   "source": [
    "test_dataset = torchvision.datasets.CIFAR10(\n",
    "    root='E:\\GB\\PyTorch',\n",
    "    train=False,\n",
    "    transform=transforms.ToTensor(),\n",
    "    download=True\n",
    ")\n",
    "\n",
    "test_loader = torch.utils.data.DataLoader(\n",
    "    test_dataset,\n",
    "    batch_size=4,\n",
    "    shuffle=False\n",
    ")"
   ]
  },
  {
   "cell_type": "code",
   "execution_count": 6,
   "metadata": {
    "id": "KgVRYW8Xp-RT"
   },
   "outputs": [],
   "source": [
    "classes = ('plane', 'car', 'bird', 'cat',\n",
    "           'deer', 'dog', 'frog', 'horse', 'ship', 'truck')"
   ]
  },
  {
   "cell_type": "code",
   "execution_count": 7,
   "metadata": {
    "colab": {
     "base_uri": "https://localhost:8080/",
     "height": 299
    },
    "id": "hrBIRpUqVBqt",
    "outputId": "5aeef1c6-9003-4d31-cca7-04ba1c149d4d"
   },
   "outputs": [
    {
     "data": {
      "image/png": "[encoded data removed]",
      "text/plain": [
       "<Figure size 432x288 with 1 Axes>"
      ]
     },
     "metadata": {
      "needs_background": "light"
     },
     "output_type": "display_data"
    },
    {
     "name": "stdout",
     "output_type": "stream",
     "text": [
      "\n",
      "torch.Size([3, 32, 32])\n",
      "6\n"
     ]
    }
   ],
   "source": [
    "image, label = train_dataset[0]\n",
    "plt.imshow(image.permute(1, 2, 0).numpy())\n",
    "plt.axis('off')\n",
    "plt.show()\n",
    "\n",
    "print (image.size())\n",
    "print (label)"
   ]
  },
  {
   "cell_type": "code",
   "execution_count": 8,
   "metadata": {
    "id": "n8y2qvmO-Y2z"
   },
   "outputs": [],
   "source": [
    "class Net(nn.Module):\n",
    "    def __init__(self):\n",
    "        super().__init__()\n",
    "        self.conv1 = nn.Conv2d(3, 32, 5, padding=1)\n",
    "        self.conv2 = nn.Conv2d(32, 32, 5, padding=1)\n",
    "        self.pool1 = nn.MaxPool2d(2, 2)\n",
    "        self.conv3 = nn.Conv2d(32, 64, 5, padding=1)\n",
    "        self.conv4 = nn.Conv2d(64, 64, 5, padding=1)\n",
    "        self.pool2 = nn.MaxPool2d((2, 2), stride=1)\n",
    "        self.fc1 = nn.Linear(64 * 9 * 9, 256)\n",
    "        self.fc2 = nn.Linear(256, 256)\n",
    "        self.fc3 = nn.Linear(256, 10)\n",
    "        self.dropout = nn.Dropout(0.3)\n",
    "\n",
    "    def forward(self, x):\n",
    "        x = F.relu(self.conv1(x))\n",
    "        x = self.pool1(F.relu(self.conv2(x)))\n",
    "        x = self.dropout(x)\n",
    "        x = F.relu(self.conv3(x))\n",
    "        x = self.pool2(F.relu(self.conv4(x)))        \n",
    "        x = self.dropout(x)\n",
    "        x = x.view(-1, 64 * 9 * 9)\n",
    "        x = F.relu(self.fc1(x))\n",
    "        x = F.relu(self.fc2(x))\n",
    "        x = self.dropout(x)\n",
    "        x = self.fc3(x)\n",
    "        return x\n",
    "\n",
    "\n",
    "net = Net().to('cpu')"
   ]
  },
  {
   "cell_type": "code",
   "execution_count": 9,
   "metadata": {
    "id": "7sPBKRrSVBfw"
   },
   "outputs": [],
   "source": [
    "criterion = nn.CrossEntropyLoss()\n",
    "optimizer = optim.Adam(net.parameters(), lr=0.001)"
   ]
  },
  {
   "cell_type": "code",
   "execution_count": 10,
   "metadata": {
    "colab": {
     "base_uri": "https://localhost:8080/",
     "height": 1000
    },
    "id": "vq20s19wj5t7",
    "outputId": "c67e8a94-b09c-4a8f-c90d-cd42163a9cc8"
   },
   "outputs": [
    {
     "name": "stdout",
     "output_type": "stream",
     "text": [
      "[ 1,     1] loss: 0.001151 accuracy: 0.075\n",
      "[ 1,   301] loss: 0.314871 accuracy: 0.350\n",
      "[ 1,   601] loss: 0.275520 accuracy: 0.425\n",
      "[ 1,   901] loss: 0.250645 accuracy: 0.325\n",
      "[ 1,  1201] loss: 0.235446 accuracy: 0.475\n",
      "[ 2,     1] loss: 0.000876 accuracy: 0.350\n",
      "[ 2,   301] loss: 0.221883 accuracy: 0.550\n",
      "[ 2,   601] loss: 0.214968 accuracy: 0.700\n",
      "[ 2,   901] loss: 0.207232 accuracy: 0.500\n",
      "[ 2,  1201] loss: 0.205049 accuracy: 0.350\n",
      "[ 3,     1] loss: 0.000575 accuracy: 0.575\n",
      "[ 3,   301] loss: 0.196659 accuracy: 0.625\n",
      "[ 3,   601] loss: 0.191392 accuracy: 0.550\n",
      "[ 3,   901] loss: 0.191611 accuracy: 0.425\n",
      "[ 3,  1201] loss: 0.183465 accuracy: 0.600\n",
      "[ 4,     1] loss: 0.000689 accuracy: 0.550\n",
      "[ 4,   301] loss: 0.177019 accuracy: 0.625\n",
      "[ 4,   601] loss: 0.175962 accuracy: 0.600\n",
      "[ 4,   901] loss: 0.173315 accuracy: 0.575\n",
      "[ 4,  1201] loss: 0.171487 accuracy: 0.575\n",
      "[ 5,     1] loss: 0.000508 accuracy: 0.575\n",
      "[ 5,   301] loss: 0.163439 accuracy: 0.750\n",
      "[ 5,   601] loss: 0.162616 accuracy: 0.675\n",
      "[ 5,   901] loss: 0.162952 accuracy: 0.625\n",
      "[ 5,  1201] loss: 0.158043 accuracy: 0.625\n",
      "[ 6,     1] loss: 0.000469 accuracy: 0.575\n",
      "[ 6,   301] loss: 0.151402 accuracy: 0.675\n",
      "[ 6,   601] loss: 0.154001 accuracy: 0.550\n",
      "[ 6,   901] loss: 0.150102 accuracy: 0.725\n",
      "[ 6,  1201] loss: 0.151538 accuracy: 0.725\n",
      "[ 7,     1] loss: 0.000406 accuracy: 0.750\n",
      "[ 7,   301] loss: 0.142008 accuracy: 0.625\n",
      "[ 7,   601] loss: 0.144255 accuracy: 0.675\n",
      "[ 7,   901] loss: 0.143060 accuracy: 0.675\n",
      "[ 7,  1201] loss: 0.144775 accuracy: 0.700\n",
      "[ 8,     1] loss: 0.000546 accuracy: 0.675\n",
      "[ 8,   301] loss: 0.137434 accuracy: 0.625\n",
      "[ 8,   601] loss: 0.137613 accuracy: 0.725\n",
      "[ 8,   901] loss: 0.136651 accuracy: 0.800\n",
      "[ 8,  1201] loss: 0.141547 accuracy: 0.725\n",
      "[ 9,     1] loss: 0.000360 accuracy: 0.725\n",
      "[ 9,   301] loss: 0.132605 accuracy: 0.700\n",
      "[ 9,   601] loss: 0.128713 accuracy: 0.725\n",
      "[ 9,   901] loss: 0.131940 accuracy: 0.575\n",
      "[ 9,  1201] loss: 0.133317 accuracy: 0.675\n",
      "[10,     1] loss: 0.000361 accuracy: 0.700\n",
      "[10,   301] loss: 0.125395 accuracy: 0.775\n",
      "[10,   601] loss: 0.128018 accuracy: 0.700\n",
      "[10,   901] loss: 0.127100 accuracy: 0.675\n",
      "[10,  1201] loss: 0.129790 accuracy: 0.675\n",
      "[11,     1] loss: 0.000368 accuracy: 0.775\n",
      "[11,   301] loss: 0.120563 accuracy: 0.725\n",
      "[11,   601] loss: 0.126983 accuracy: 0.850\n",
      "[11,   901] loss: 0.126468 accuracy: 0.650\n",
      "[11,  1201] loss: 0.124832 accuracy: 0.725\n",
      "[12,     1] loss: 0.000328 accuracy: 0.700\n",
      "[12,   301] loss: 0.117927 accuracy: 0.750\n",
      "[12,   601] loss: 0.120667 accuracy: 0.675\n",
      "[12,   901] loss: 0.122246 accuracy: 0.600\n",
      "[12,  1201] loss: 0.123375 accuracy: 0.650\n",
      "[13,     1] loss: 0.000396 accuracy: 0.775\n",
      "[13,   301] loss: 0.115922 accuracy: 0.675\n",
      "[13,   601] loss: 0.116271 accuracy: 0.725\n",
      "[13,   901] loss: 0.120332 accuracy: 0.725\n",
      "[13,  1201] loss: 0.117381 accuracy: 0.725\n",
      "[14,     1] loss: 0.000302 accuracy: 0.800\n",
      "[14,   301] loss: 0.113390 accuracy: 0.700\n",
      "[14,   601] loss: 0.112382 accuracy: 0.725\n",
      "[14,   901] loss: 0.118108 accuracy: 0.675\n",
      "[14,  1201] loss: 0.112703 accuracy: 0.675\n",
      "[15,     1] loss: 0.000232 accuracy: 0.775\n",
      "[15,   301] loss: 0.106850 accuracy: 0.725\n",
      "[15,   601] loss: 0.113583 accuracy: 0.725\n",
      "[15,   901] loss: 0.111103 accuracy: 0.775\n",
      "[15,  1201] loss: 0.114214 accuracy: 0.825\n",
      "[16,     1] loss: 0.000349 accuracy: 0.625\n",
      "[16,   301] loss: 0.107194 accuracy: 0.700\n",
      "[16,   601] loss: 0.108032 accuracy: 0.575\n",
      "[16,   901] loss: 0.112118 accuracy: 0.700\n",
      "[16,  1201] loss: 0.109875 accuracy: 0.750\n",
      "[17,     1] loss: 0.000619 accuracy: 0.550\n",
      "[17,   301] loss: 0.103101 accuracy: 0.825\n",
      "[17,   601] loss: 0.104177 accuracy: 0.775\n",
      "[17,   901] loss: 0.105548 accuracy: 0.725\n",
      "[17,  1201] loss: 0.107673 accuracy: 0.700\n",
      "[18,     1] loss: 0.000277 accuracy: 0.825\n",
      "[18,   301] loss: 0.100096 accuracy: 0.850\n",
      "[18,   601] loss: 0.102688 accuracy: 0.825\n",
      "[18,   901] loss: 0.105153 accuracy: 0.800\n",
      "[18,  1201] loss: 0.107476 accuracy: 0.800\n",
      "[19,     1] loss: 0.000587 accuracy: 0.625\n",
      "[19,   301] loss: 0.097571 accuracy: 0.675\n",
      "[19,   601] loss: 0.099028 accuracy: 0.825\n",
      "[19,   901] loss: 0.104448 accuracy: 0.625\n",
      "[19,  1201] loss: 0.105189 accuracy: 0.725\n",
      "[20,     1] loss: 0.000373 accuracy: 0.725\n",
      "[20,   301] loss: 0.096605 accuracy: 0.775\n",
      "[20,   601] loss: 0.099668 accuracy: 0.850\n",
      "[20,   901] loss: 0.100564 accuracy: 0.700\n",
      "[20,  1201] loss: 0.102454 accuracy: 0.725\n",
      "Training is finished!\n",
      "Wall time: 2h 1min 44s\n"
     ]
    }
   ],
   "source": [
    "%%time\n",
    "for epoch in range(20):  \n",
    "    running_loss = 0.0\n",
    "    for i, data in enumerate(train_loader, 0):\n",
    "        inputs, labels = data[0], data[1]\n",
    "\n",
    "        optimizer.zero_grad()\n",
    "\n",
    "        outputs = net(inputs)\n",
    "        loss = criterion(outputs, labels)\n",
    "        loss.backward()\n",
    "        optimizer.step()\n",
    "\n",
    "        running_loss += loss.item()\n",
    "        if i % 300 == 0:    \n",
    "            _, predicted = torch.max(outputs, 1)\n",
    "            accuracy = accuracy_score(labels, predicted)\n",
    "            print('[%2d, %5d] loss: %.6f accuracy: %.3f' %\n",
    "                  (epoch + 1, i + 1, running_loss / 2000, accuracy))\n",
    "            running_loss = 0.0\n",
    "\n",
    "print('Training is finished!')"
   ]
  },
  {
   "cell_type": "code",
   "execution_count": 11,
   "metadata": {
    "id": "NoJM4FSrkiwi"
   },
   "outputs": [],
   "source": [
    "data_iter = iter(test_loader)\n",
    "images, labels = data_iter.next()\n",
    "\n",
    "outputs = net(images)\n",
    "imgs = torchvision.utils.make_grid(images)"
   ]
  },
  {
   "cell_type": "code",
   "execution_count": 12,
   "metadata": {
    "colab": {
     "base_uri": "https://localhost:8080/",
     "height": 152
    },
    "id": "wqEd9y69qOTw",
    "outputId": "3f0b893b-972e-497a-cdb8-07d8aba5ef05"
   },
   "outputs": [
    {
     "name": "stdout",
     "output_type": "stream",
     "text": [
      "GroundTruth:    cat  ship  ship plane\n",
      "Predicted:    horse  ship plane plane\n"
     ]
    },
    {
     "data": {
      "image/png": "[encoded data removed]",
      "text/plain": [
       "<Figure size 432x288 with 1 Axes>"
      ]
     },
     "metadata": {
      "needs_background": "light"
     },
     "output_type": "display_data"
    }
   ],
   "source": [
    "plt.imshow(imgs.permute(1, 2, 0).numpy())\n",
    "plt.axis('off')\n",
    "\n",
    "print('GroundTruth: ', ' '.join('%5s' % classes[labels[j]] for j in range(4)))\n",
    "\n",
    "_, predicted = torch.max(outputs, 1)\n",
    "print('Predicted:   ', ' '.join('%5s' % classes[predicted[j]] for j in range(4)))"
   ]
  },
  {
   "cell_type": "markdown",
   "metadata": {
    "id": "qKJ_QY39bVhP"
   },
   "source": [
    "2). Взять часть, где мы делали один шаг обучения, и обернуть его в цикл по схеме, как обучали модель в конце занятия."
   ]
  },
  {
   "cell_type": "code",
   "execution_count": 13,
   "metadata": {
    "id": "ZY2AGgdnbQv8"
   },
   "outputs": [],
   "source": [
    "def print_tens_info(tensor):\n",
    "    print(\"X :\\n%s\\n\" % tensor)\n",
    "    print(\"X количество измерений:\\n%s\\n\" % tensor.dim())\n",
    "    print(\"X размеры : \",  tensor.size())\n",
    "    print(\"X тип : %s\\n\" % (tensor.type()))\n",
    "r.mean(axis=0)))    "
   ]
  },
  {
   "cell_type": "code",
   "execution_count": 14,
   "metadata": {
    "id": "4iqTZNh5bQyi"
   },
   "outputs": [],
   "source": [
    "x = Variable(torch.randn(2), requires_grad = True)\n",
    "y = Variable(torch.randn(2), requires_grad = False)"
   ]
  },
  {
   "cell_type": "code",
   "execution_count": 15,
   "metadata": {
    "colab": {
     "base_uri": "https://localhost:8080/",
     "height": 170
    },
    "id": "Y50_qoLLbQsL",
    "outputId": "6de9dc74-e074-4d06-e895-7de5a17d6520"
   },
   "outputs": [
    {
     "name": "stdout",
     "output_type": "stream",
     "text": [
      "X :\n",
      "tensor([-0.7286,  0.4440], requires_grad=True)\n",
      "\n",
      "X количество измерений:\n",
      "1\n",
      "\n",
      "X размеры :  torch.Size([2])\n",
      "X тип : torch.FloatTensor\n",
      "\n"
     ]
    }
   ],
   "source": [
    "print_tens_info(x)"
   ]
  },
  {
   "cell_type": "code",
   "execution_count": 16,
   "metadata": {
    "id": "XCjm5UA9dOSD"
   },
   "outputs": [],
   "source": [
    "linear = nn.Linear(2, 2)"
   ]
  },
  {
   "cell_type": "code",
   "execution_count": 17,
   "metadata": {
    "id": "SGIEVIhNecIw"
   },
   "outputs": [],
   "source": [
    "criterion = nn.MSELoss()\n",
    "optimizer = torch.optim.SGD(linear.parameters(), lr=0.01)"
   ]
  },
  {
   "cell_type": "code",
   "execution_count": 18,
   "metadata": {
    "colab": {
     "base_uri": "https://localhost:8080/",
     "height": 170
    },
    "id": "6lEnyrQBeysn",
    "outputId": "1361cea3-c535-455a-d0f6-9b78783824f8"
   },
   "outputs": [
    {
     "name": "stdout",
     "output_type": "stream",
     "text": [
      "[  0] loss: 0.315268\n",
      "[ 20] loss: 0.156989\n",
      "[ 40] loss: 0.078174\n",
      "[ 60] loss: 0.038927\n",
      "[ 80] loss: 0.019384\n",
      "[100] loss: 0.009652\n",
      "[120] loss: 0.004806\n",
      "[140] loss: 0.002393\n",
      "[160] loss: 0.001192\n",
      "[180] loss: 0.000593\n",
      "[200] loss: 0.000296\n",
      "[220] loss: 0.000147\n",
      "[240] loss: 0.000073\n",
      "[260] loss: 0.000036\n",
      "[280] loss: 0.000018\n",
      "[300] loss: 0.000009\n",
      "[320] loss: 0.000005\n",
      "[340] loss: 0.000002\n",
      "[360] loss: 0.000001\n"
     ]
    }
   ],
   "source": [
    "for i in range(1000):  \n",
    "    optimizer.zero_grad()\n",
    "\n",
    "    pred = linear(x)\n",
    "    loss = criterion(pred, y)\n",
    "    loss.backward()\n",
    "    optimizer.step()\n",
    "\n",
    "    if i % 20 == 0:\n",
    "        print('[%3d] loss: %.6f' %\n",
    "                  (i, loss.item()))        \n",
    "\n",
    "    if loss.item() <= 1e-6:\n",
    "        break"
   ]
  },
  {
   "cell_type": "code",
   "execution_count": 19,
   "metadata": {
    "colab": {
     "base_uri": "https://localhost:8080/",
     "height": 51
    },
    "id": "4PZBRvdnoW92",
    "outputId": "72f6a1c2-c4bd-4546-ff74-59157cf2b863"
   },
   "outputs": [
    {
     "name": "stdout",
     "output_type": "stream",
     "text": [
      "y:     tensor([-0.6162,  0.0729])\n",
      "pred:  tensor([-0.6152,  0.0720], grad_fn=<AddBackward0>)\n"
     ]
    }
   ],
   "source": [
    "print('y:    ', y)\n",
    "print('pred: ', pred)"
   ]
  },
  {
   "cell_type": "markdown",
   "metadata": {},
   "source": [
    "3). Переписать эту программу на PyTorch"
   ]
  },
  {
   "cell_type": "markdown",
   "metadata": {
    "id": "r3i1wfHwp9fX"
   },
   "source": [
    "![img.png](img.png)\n",
    "<br>Не забудьте про реализацию функции forward! "
   ]
  },
  {
   "cell_type": "code",
   "execution_count": 20,
   "metadata": {
    "id": "QnJP3cymu6Cw"
   },
   "outputs": [],
   "source": [
    "class Net3(nn.Module):\n",
    "    def __init__(self):\n",
    "        super().__init__()\n",
    "        self.fc1 = nn.Linear(28*28, 128)\n",
    "        self.dropout = nn.Dropout(0.2)\n",
    "        self.fc2 = nn.Linear(128, 10)\n",
    "\n",
    "    def forward(self, x):\n",
    "        x = x.view(-1, 28*28)\n",
    "        x = F.relu(self.fc1(x))\n",
    "        x = self.dropout(x)\n",
    "        x = F.log_softmax(self.fc2(x), dim=-1)\n",
    "        # x = self.fc2(x)\n",
    "        return x\n",
    "\n",
    "\n",
    "net3 = Net3().to('cpu')"
   ]
  },
  {
   "cell_type": "code",
   "execution_count": 21,
   "metadata": {
    "id": "MA27waiquMA6"
   },
   "outputs": [],
   "source": [
    "criterion = nn.CrossEntropyLoss()\n",
    "optimizer = torch.optim.Adam(net3.parameters())"
   ]
  },
  {
   "cell_type": "code",
   "execution_count": 22,
   "metadata": {
    "colab": {
     "base_uri": "https://localhost:8080/",
     "height": 34
    },
    "id": "fuHrhEBSwMjZ",
    "outputId": "cbc5a3f7-ab60-48fa-e671-ef1432a7f3a2"
   },
   "outputs": [
    {
     "data": {
      "text/plain": [
       "torch.Size([28, 28])"
      ]
     },
     "execution_count": 22,
     "metadata": {},
     "output_type": "execute_result"
    }
   ],
   "source": [
    "x3 = Variable(torch.randn((28, 28)), requires_grad = True)\n",
    "x3.size()"
   ]
  },
  {
   "cell_type": "code",
   "execution_count": 23,
   "metadata": {
    "colab": {
     "base_uri": "https://localhost:8080/",
     "height": 34
    },
    "id": "2_mwMy5Vym9e",
    "outputId": "d586ecea-fbe4-4bf2-bd4f-0c45fb3ac7de"
   },
   "outputs": [
    {
     "data": {
      "text/plain": [
       "torch.Size([1, 10])"
      ]
     },
     "execution_count": 23,
     "metadata": {},
     "output_type": "execute_result"
    }
   ],
   "source": [
    "y3 = np.zeros(10)\n",
    "y3[3] = 1.\n",
    "\n",
    "y3 = Variable(torch.tensor(y3.reshape(1, 10)), requires_grad = False)\n",
    "y3.size()"
   ]
  },
  {
   "cell_type": "code",
   "execution_count": 24,
   "metadata": {
    "colab": {
     "base_uri": "https://localhost:8080/",
     "height": 34
    },
    "id": "NEHWZe4Nv6oN",
    "outputId": "ca2bd15e-27bf-4976-b767-55d62e7ca70a"
   },
   "outputs": [
    {
     "data": {
      "text/plain": [
       "torch.Size([1, 10])"
      ]
     },
     "execution_count": 24,
     "metadata": {},
     "output_type": "execute_result"
    }
   ],
   "source": [
    "pred3 = net3(x3)\n",
    "pred3.size()"
   ]
  }
 ],
 "metadata": {
  "accelerator": "GPU",
  "colab": {
   "collapsed_sections": [],
   "name": "Task_pytorch_1.ipynb",
   "provenance": []
  },
  "kernelspec": {
   "display_name": "Python 3",
   "language": "python",
   "name": "python3"
  },
  "language_info": {
   "codemirror_mode": {
    "name": "ipython",
    "version": 3
   },
   "file_extension": ".py",
   "mimetype": "text/x-python",
   "name": "python",
   "nbconvert_exporter": "python",
   "pygments_lexer": "ipython3",
   "version": "3.7.6"
  },
  "widgets": {
   "application/vnd.jupyter.widget-state+json": {
    "1866ae3676dd43e0b8b0f4afc1bd506c": {
     "model_module": "@jupyter-widgets/controls",
     "model_name": "HTMLModel",
     "state": {
      "_dom_classes": [],
      "_model_module": "@jupyter-widgets/controls",
      "_model_module_version": "1.5.0",
      "_model_name": "HTMLModel",
      "_view_count": null,
      "_view_module": "@jupyter-widgets/controls",
      "_view_module_version": "1.5.0",
      "_view_name": "HTMLView",
      "description": "",
      "description_tooltip": null,
      "layout": "IPY_MODEL_5c93bd3809c7434ab6f309da20a0c9e0",
      "placeholder": "​",
      "style": "IPY_MODEL_90d1c217dfdb4b03875f28ec75d2052a",
      "value": " 170500096/? [00:07&lt;00:00, 23576177.42it/s]"
     }
    },
    "53d16f2bbd33432a9c9d4ec6a85dbb2b": {
     "model_module": "@jupyter-widgets/controls",
     "model_name": "ProgressStyleModel",
     "state": {
      "_model_module": "@jupyter-widgets/controls",
      "_model_module_version": "1.5.0",
      "_model_name": "ProgressStyleModel",
      "_view_count": null,
      "_view_module": "@jupyter-widgets/base",
      "_view_module_version": "1.2.0",
      "_view_name": "StyleView",
      "bar_color": null,
      "description_width": "initial"
     }
    },
    "5602243caa0a4be0bced93ad98acffc9": {
     "model_module": "@jupyter-widgets/controls",
     "model_name": "FloatProgressModel",
     "state": {
      "_dom_classes": [],
      "_model_module": "@jupyter-widgets/controls",
      "_model_module_version": "1.5.0",
      "_model_name": "FloatProgressModel",
      "_view_count": null,
      "_view_module": "@jupyter-widgets/controls",
      "_view_module_version": "1.5.0",
      "_view_name": "ProgressView",
      "bar_style": "success",
      "description": "",
      "description_tooltip": null,
      "layout": "IPY_MODEL_fd8c5a4a09494956aeef8a93b40a18fb",
      "max": 1,
      "min": 0,
      "orientation": "horizontal",
      "style": "IPY_MODEL_53d16f2bbd33432a9c9d4ec6a85dbb2b",
      "value": 1
     }
    },
    "5c93bd3809c7434ab6f309da20a0c9e0": {
     "model_module": "@jupyter-widgets/base",
     "model_name": "LayoutModel",
     "state": {
      "_model_module": "@jupyter-widgets/base",
      "_model_module_version": "1.2.0",
      "_model_name": "LayoutModel",
      "_view_count": null,
      "_view_module": "@jupyter-widgets/base",
      "_view_module_version": "1.2.0",
      "_view_name": "LayoutView",
      "align_content": null,
      "align_items": null,
      "align_self": null,
      "border": null,
      "bottom": null,
      "display": null,
      "flex": null,
      "flex_flow": null,
      "grid_area": null,
      "grid_auto_columns": null,
      "grid_auto_flow": null,
      "grid_auto_rows": null,
      "grid_column": null,
      "grid_gap": null,
      "grid_row": null,
      "grid_template_areas": null,
      "grid_template_columns": null,
      "grid_template_rows": null,
      "height": null,
      "justify_content": null,
      "justify_items": null,
      "left": null,
      "margin": null,
      "max_height": null,
      "max_width": null,
      "min_height": null,
      "min_width": null,
      "object_fit": null,
      "object_position": null,
      "order": null,
      "overflow": null,
      "overflow_x": null,
      "overflow_y": null,
      "padding": null,
      "right": null,
      "top": null,
      "visibility": null,
      "width": null
     }
    },
    "8eb87af3cf7f499e9e8f20d7c8d04177": {
     "model_module": "@jupyter-widgets/controls",
     "model_name": "HBoxModel",
     "state": {
      "_dom_classes": [],
      "_model_module": "@jupyter-widgets/controls",
      "_model_module_version": "1.5.0",
      "_model_name": "HBoxModel",
      "_view_count": null,
      "_view_module": "@jupyter-widgets/controls",
      "_view_module_version": "1.5.0",
      "_view_name": "HBoxView",
      "box_style": "",
      "children": [
       "IPY_MODEL_5602243caa0a4be0bced93ad98acffc9",
       "IPY_MODEL_1866ae3676dd43e0b8b0f4afc1bd506c"
      ],
      "layout": "IPY_MODEL_9408ac081dc74369b4287e95ee90715c"
     }
    },
    "90d1c217dfdb4b03875f28ec75d2052a": {
     "model_module": "@jupyter-widgets/controls",
     "model_name": "DescriptionStyleModel",
     "state": {
      "_model_module": "@jupyter-widgets/controls",
      "_model_module_version": "1.5.0",
      "_model_name": "DescriptionStyleModel",
      "_view_count": null,
      "_view_module": "@jupyter-widgets/base",
      "_view_module_version": "1.2.0",
      "_view_name": "StyleView",
      "description_width": ""
     }
    },
    "9408ac081dc74369b4287e95ee90715c": {
     "model_module": "@jupyter-widgets/base",
     "model_name": "LayoutModel",
     "state": {
      "_model_module": "@jupyter-widgets/base",
      "_model_module_version": "1.2.0",
      "_model_name": "LayoutModel",
      "_view_count": null,
      "_view_module": "@jupyter-widgets/base",
      "_view_module_version": "1.2.0",
      "_view_name": "LayoutView",
      "align_content": null,
      "align_items": null,
      "align_self": null,
      "border": null,
      "bottom": null,
      "display": null,
      "flex": null,
      "flex_flow": null,
      "grid_area": null,
      "grid_auto_columns": null,
      "grid_auto_flow": null,
      "grid_auto_rows": null,
      "grid_column": null,
      "grid_gap": null,
      "grid_row": null,
      "grid_template_areas": null,
      "grid_template_columns": null,
      "grid_template_rows": null,
      "height": null,
      "justify_content": null,
      "justify_items": null,
      "left": null,
      "margin": null,
      "max_height": null,
      "max_width": null,
      "min_height": null,
      "min_width": null,
      "object_fit": null,
      "object_position": null,
      "order": null,
      "overflow": null,
      "overflow_x": null,
      "overflow_y": null,
      "padding": null,
      "right": null,
      "top": null,
      "visibility": null,
      "width": null
     }
    },
    "fd8c5a4a09494956aeef8a93b40a18fb": {
     "model_module": "@jupyter-widgets/base",
     "model_name": "LayoutModel",
     "state": {
      "_model_module": "@jupyter-widgets/base",
      "_model_module_version": "1.2.0",
      "_model_name": "LayoutModel",
      "_view_count": null,
      "_view_module": "@jupyter-widgets/base",
      "_view_module_version": "1.2.0",
      "_view_name": "LayoutView",
      "align_content": null,
      "align_items": null,
      "align_self": null,
      "border": null,
      "bottom": null,
      "display": null,
      "flex": null,
      "flex_flow": null,
      "grid_area": null,
      "grid_auto_columns": null,
      "grid_auto_flow": null,
      "grid_auto_rows": null,
      "grid_column": null,
      "grid_gap": null,
      "grid_row": null,
      "grid_template_areas": null,
      "grid_template_columns": null,
      "grid_template_rows": null,
      "height": null,
      "justify_content": null,
      "justify_items": null,
      "left": null,
      "margin": null,
      "max_height": null,
      "max_width": null,
      "min_height": null,
      "min_width": null,
      "object_fit": null,
      "object_position": null,
      "order": null,
      "overflow": null,
      "overflow_x": null,
      "overflow_y": null,
      "padding": null,
      "right": null,
      "top": null,
      "visibility": null,
      "width": null
     }
    }
   }
  }
 },
 "nbformat": 4,
 "nbformat_minor": 1
}
